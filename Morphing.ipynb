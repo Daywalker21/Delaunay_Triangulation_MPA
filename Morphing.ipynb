{
 "cells": [
  {
   "cell_type": "markdown",
   "metadata": {},
   "source": [
    "# Contents"
   ]
  },
  {
   "cell_type": "markdown",
   "metadata": {},
   "source": [
    "- [Aim](#Aim) ***Aim***<br>\n",
    "\n",
    "- [Overview](#Overview) ***Overview***<br>\n",
    "\n",
    "- [Input Images](#Input-Images) ***Input Images***<br>\n",
    "\n",
    "- [Algorithmic Steps](#Algorithmic-Steps) ***Algorithmic Steps***<br>\n",
    "\n",
    "- [Code](#code) ***Code***<br>\n",
    "\n",
    "    - [Important Python Libraries used](#Important-Python-Libraries-used) ***Important Python Libraries used***<br>\n",
    "    - [Functions which we created and their definations](#Functions-which-we-created-and-their-definations) ***Functions Used and their definations***<br>\n",
    "    \n",
    "        - [circumcenter(p1,p2,p3)](#circumcenter(p1,p2,p3)) *circumcenter(p1 , p2 , p3)*<br>\n",
    "    \n",
    "        - [dist(p1,p2)](#dist(p1,p2)) *dist(p1 , p2) and area(x1, y1, x2, y2, x3, y3)*<br>\n",
    "        \n",
    "        - [delaunay(pts,coord)](#delaunay(pts,coord)) *delaunay(pts , coord)*<br>\n",
    "        \n",
    "        - [combinations(coord)](#combinations(coord)) *combinations(coord)*<br>\n",
    "        \n",
    "        - [get_Triangle_List(coord)](#get_Triangle_List(coord)) *get_Triangle_List(coord)*<br>\n",
    "        \n",
    "        - [CallBackFuncForimg1](#CallBackFuncForimg1) *CallBackFuncForimg1(), CallBackFuncForimg2() and getcoord()*<br>\n",
    "        \n",
    "        - [draw_delauany(img,triangleList,delaunay_color)](#draw_delauany(img,triangleList,delaunay_color)) *draw_delauany(img , triangleList , delaunay_color)*<br>\n",
    "        \n",
    "        - [showTriangulated(img1,img2)](#showTriangulated(img1,img2)) *showTriangulated(img1 , img2)*<br>\n",
    "        \n",
    "        - [isInsideTriangle(p1,p2,p3,x,y)](#isInsideTriangle(p1,p2,p3,x,y)) *isInsideTriangle(p1,p2,p3,x,y)*<br>\n",
    "        \n",
    "        - [get_affine_basis(coord)](#get_affine_basis(coord)) *get_affine_basis(coord)*<br>\n",
    "        \n",
    "        - [get_intermediate_triangles(srcTri , destTri , k , n)](#get_intermediate_triangles(srcTri,destTri,k,n)) *get_intermediate_triangles(srcTri , destTri , k , n)*<br>\n",
    "        \n",
    "        - [checkRange(sx , sy , dx , dy)](#checkRange(sx,sy,dx,dy)) *checkRange(sx , sy , dx , dy)*<br>\n",
    "        \n",
    "        - [morph(no_of_intermed)](#morph(no_of_intermed)) *morph(no_of_intermed)*<br>\n",
    "\n",
    "- [Reading of input images and resizing them to same size](#Reading-of-input-images-and-resizing-them-to-same-size) ***Reading of input images and resizing them to same size***<br>\n",
    "- [Getting control points on images using mouse click](#Getting-control-points-on-images-using-mouse-click) ***Getting control points on images using mouse click***<br>\n",
    "- [Triangulating the images and applying affine transformation](#Triangulating-the-images-and-applying-affine-transformation) ***Triangulating the images and applying affine transformation***<br>\n",
    "- [Results and Conclusion](#Results-and-Conclusion) **Results**<br>\n"
   ]
  },
  {
   "cell_type": "markdown",
   "metadata": {},
   "source": [
    "<a id = \"Aim\"></a>"
   ]
  },
  {
   "cell_type": "markdown",
   "metadata": {},
   "source": [
    "\n",
    "# Aim\n",
    "\n",
    ">Take two images and select control points in both the images and triangulate them after that linearly interpolate the coordinate values of control points and find out the affine coordinates of non-control points in the intermediate frame. Now use these affine coordinates to find out the location of non-control points in the first and second images. Use color interpolation to assign color values to pixels in the intermediate frame then generating and saving all the intermediate frames so that they can be viewed individually and also need saving the source and destination images after triangulation."
   ]
  },
  {
   "cell_type": "markdown",
   "metadata": {},
   "source": [
    "<a id = \"overview\"></a>"
   ]
  },
  {
   "cell_type": "markdown",
   "metadata": {},
   "source": [
    "# Overview"
   ]
  },
  {
   "cell_type": "markdown",
   "metadata": {},
   "source": [
    "<a id = \"Input-Images\"></a>\n",
    "<!-- <a id = \"code\"></a> -->"
   ]
  },
  {
   "cell_type": "markdown",
   "metadata": {},
   "source": [
    "# Input Images\n",
    "![mayank](clinton.jpg)<br>\n",
    "<center>Clinton (Image 1 size 500x500)</center>"
   ]
  },
  {
   "cell_type": "markdown",
   "metadata": {},
   "source": [
    "![mayank](bush.jpg)\n",
    "<center>Bush (Image 2 size 500x500)</center>"
   ]
  },
  {
   "cell_type": "markdown",
   "metadata": {},
   "source": [
    "<a id = \"Algorithmic-Steps\"></a>"
   ]
  },
  {
   "cell_type": "markdown",
   "metadata": {},
   "source": [
    "# Algorithmic Steps\n",
    "  \n",
    ">**Step 1** Reading images and making their size same if they are of different size. In this we have taken two images of size 500X500<br>\n",
    "\n",
    ">**Step 2** getting control points of both the images using mouse clicks in the same order as taken in 1st image. you can take as many control points you want at the end the output which we have shown is done by using 1 point for each eye 1 point at the center of lips and 4 corners of the image so total 7 control points.<br>\n",
    "\n",
    ">**Step 3** Triangulating both the images using delaunay triangulation and saving the images. we have done by the following steps:<br>\n",
    "\n",
    "> - make all the possible combination of the triangles from the control points that is 35 in our case and then rejecting that combinations which are co-linear<br>\n",
    "\n",
    "> - now selecting a combination and drawing circumcirle on it<br>\n",
    "\n",
    "> - if any other control points lie inside that circle then reject that triangle otherwise accept<br>\n",
    "\n",
    "> - repeat step 2 until we are not done with all the combinations<br>\n",
    "\n",
    ">**Step 4** To do affine Transformation from source image to destination image by making some intermediate images in which pixel value are calculated by combination of pixel value in source and destination by reverse warping otherwise we will get holes in the images. The steps which we followed are:<br>\n",
    "\n",
    "> - Select a trinagle in intermediate image and calculate affine basis in source, destination and intermediate images corresponding to that triangle<br>\n",
    "\n",
    "> - calculate affine coordinates alpha and beta using affine basis for each point in that triangle in intermediate image<br>\n",
    "\n",
    "> - for all the points lying in that triangle in intermediate image find corresponding point in source and destination image by using alpha beta and pixel value by using the formula mentioned below.<br>\n",
    "   \n",
    "$$ \\mathbf{Pk}= \\left( \\frac{n-k}{n} \\right) \\mathbf{P1}+\\left(\\frac{k}{n}\\right)\\mathbf{P2}$$<br>\n",
    "\n",
    "$\\mathbf{Pk}$ is calculated pixel value in kth intermediate image <br>\n",
    "$\\mathbf{P1}$ is pixel value in Source image<br>\n",
    "$\\mathbf{P2}$ is pixel value in Destination image\n",
    "    \n",
    "    \n",
    "    "
   ]
  },
  {
   "cell_type": "markdown",
   "metadata": {},
   "source": [
    "<a id = \"code\"></a>"
   ]
  },
  {
   "cell_type": "markdown",
   "metadata": {},
   "source": [
    "# Code"
   ]
  },
  {
   "cell_type": "markdown",
   "metadata": {},
   "source": [
    "<a id = \"Important-Python-Libraries-used\"></a>"
   ]
  },
  {
   "cell_type": "markdown",
   "metadata": {},
   "source": [
    "## Important Python Libraries used\n",
    ">cv2, numpy, math, sys"
   ]
  },
  {
   "cell_type": "code",
   "execution_count": 2,
   "metadata": {},
   "outputs": [],
   "source": [
    "import cv2\n",
    "import numpy as np\n",
    "import math\n",
    "import sys"
   ]
  },
  {
   "cell_type": "markdown",
   "metadata": {},
   "source": [
    "<a id = \"Functions-which-we-created-and-their-definations\"></a>"
   ]
  },
  {
   "cell_type": "markdown",
   "metadata": {},
   "source": [
    "## Functions which we created and their definations"
   ]
  },
  {
   "cell_type": "markdown",
   "metadata": {},
   "source": [
    "<a id = \"circumcenter(p1,p2,p3)\"></a>"
   ]
  },
  {
   "cell_type": "markdown",
   "metadata": {},
   "source": [
    "### circumcenter(p1,p2,p3)\n",
    "\n",
    "#### Use\n",
    ">To Calculate the circumcenter of the three points given. \n",
    "\n",
    "#### Arguments\n",
    ">This function takes 3 arguments as p1, p2 and p3.\n",
    "\n",
    "#### return type \n",
    ">coordinate of the the circumcenter of the point made by p1, p2 and p3."
   ]
  },
  {
   "cell_type": "code",
   "execution_count": 3,
   "metadata": {},
   "outputs": [],
   "source": [
    "def circumcenter(p1,p2,p3):\n",
    "    \n",
    "    #using the mathemathical formula for circumcenter for three points\n",
    "    #Source for formula wikipedia\n",
    "    \n",
    "    d = 2 * (p1[0] * (p2[1] - p3[1]) + p2[0] * \n",
    "             (p3[1] - p1[1]) + p3[0] * (p1[1] - p2[1]))\n",
    "    \n",
    "    det_p1 = p1[0]**2 + p1[1]**2 \n",
    "    det_p2 = p2[0]**2 + p2[1]**2\n",
    "    det_p3 = p3[0]** 2 + p3[1]**2\n",
    "    \n",
    "    cx = (det_p1 * (p2[1] - p3[1]) \n",
    "          + det_p2 * (p3[1] - p1[1]) \n",
    "          + det_p3 * (p1[1] - p2[1])) / d\n",
    "    \n",
    "    cy = (det_p1 * (p3[0] - p2[0]) \n",
    "          + det_p2 * (p1[0] - p3[0]) \n",
    "          + det_p3 * (p2[0] - p1[0])) / d\n",
    "    \n",
    "    return (cx, cy)"
   ]
  },
  {
   "cell_type": "markdown",
   "metadata": {},
   "source": [
    "<a id = \"dist(p1,p2)\"></a>"
   ]
  },
  {
   "cell_type": "markdown",
   "metadata": {},
   "source": [
    "### dist(p1,p2)\n",
    "\n",
    "#### Use\n",
    ">To Calculate distance between two points \n",
    "\n",
    "#### Arguments\n",
    ">This function takes 2 arguments as p1 and p2.\n",
    "\n",
    "#### return type \n",
    ">float value of distance between p1 and p2 calculated using euclidean distance formula\n",
    "    \n",
    "### area(x1,y1,x2,y2,x3,y3)\n",
    "#### Use\n",
    ">To Calculate Area of triangle\n",
    "\n",
    "#### Arguments\n",
    ">This function takes 4 arguments such that (x1,y1), (x2,y2), (x3,y3) are co-ordinates of the triangle.\n",
    "\n",
    "#### return type \n",
    ">float value of area of triangle"
   ]
  },
  {
   "cell_type": "code",
   "execution_count": 4,
   "metadata": {},
   "outputs": [],
   "source": [
    "def dist(p1,p2):\n",
    "    \n",
    "    # Euclidean Distance formula\n",
    "    return math.sqrt((p1[0] - p2[0])**2 + (p1[1] - p2[1])**2 )\n",
    "\n",
    "def area(x1, y1, x2, y2, x3, y3): \n",
    "    # formula to calculate area of triangle\n",
    "    return abs((x1 * (y2 - y3) + x2 * (y3 - y1) + x3 * (y1 - y2)) / 2.0)"
   ]
  },
  {
   "cell_type": "markdown",
   "metadata": {},
   "source": [
    "<a id = \"delaunay(pts,coord)\"></a>"
   ]
  },
  {
   "cell_type": "markdown",
   "metadata": {},
   "source": [
    "### delaunay(pts,coord)\n",
    "\n",
    "#### Use\n",
    ">To check whether the three points passed in pts form a triangle according to delaunay condition or not \n",
    "\n",
    "#### Arguments\n",
    ">This function takes 2 arguments as pts and coord.<br>\n",
    ">- pts - contains three points that represent the coordinates of the triangle on which the condition is to be checked.<br>\n",
    ">- coord - all the points the are input by the user as well as the boundary points.\n",
    "\n",
    "#### return type \n",
    ">boolean value - whether the passed triangle points fulfill the delauny conditon or not<br>\n",
    "\n",
    ">- True - Fulfiled<br>\n",
    ">- False - Not Fulfiled"
   ]
  },
  {
   "cell_type": "code",
   "execution_count": 5,
   "metadata": {},
   "outputs": [],
   "source": [
    "def delaunay(pts,coord):\n",
    "    \n",
    "    # Checking weather the points are collinear or not\n",
    "    area_tri = area(pts[0][0],pts[0][1],pts[1][0],pts[1][1],pts[2][0],pts[2][1])\n",
    "    if area_tri == 0:\n",
    "        return False\n",
    "        \n",
    "    # Finding the circumcenter of the selected points for triangle\n",
    "    c = circumcenter(pts[0],pts[1],pts[2])\n",
    "    \n",
    "    #radius of the circumcircle by p1,p2,p3\n",
    "    radius = dist(c,pts[0])\n",
    "\n",
    "    #Getting the distance of remaining points and checking delaunay condition\n",
    "    \n",
    "    for i in range(len(coord)):\n",
    "        if coord[i] not in pts:\n",
    "            d = dist(c,coord[i])\n",
    "            if d < radius:\n",
    "                return False\n",
    "    \n",
    "    return True"
   ]
  },
  {
   "cell_type": "markdown",
   "metadata": {},
   "source": [
    "<a id = \"combinations(coord)\"></a>"
   ]
  },
  {
   "cell_type": "markdown",
   "metadata": {},
   "source": [
    "### combinations(coord)\n",
    "\n",
    "#### Use\n",
    ">To generate the combinations of points to create triangles.\n",
    "\n",
    "#### Arguments\n",
    ">This function takes 1 arguments coord<br>\n",
    "> - coord - the list of points provided by the user for the delaunay triangulation.\n",
    "    \n",
    "#### return type \n",
    ">returns the list of all the combinations of the points.\n",
    "    "
   ]
  },
  {
   "cell_type": "code",
   "execution_count": 6,
   "metadata": {},
   "outputs": [],
   "source": [
    "def combinations(coord):\n",
    "    comb = []\n",
    "    for i in range(len(coord)):\n",
    "        for j in range(len(coord)):\n",
    "            for k in range(len(coord)):\n",
    "                if(i!=j&j!=k&k!=i):\n",
    "                    t = (coord[i],coord[j],coord[k])\n",
    "                    comb.append(t)\n",
    "    return comb\n",
    "                    "
   ]
  },
  {
   "cell_type": "markdown",
   "metadata": {},
   "source": [
    "<a id = \"get_Triangle_List(coord)\"></a>"
   ]
  },
  {
   "cell_type": "markdown",
   "metadata": {},
   "source": [
    "### get_Triangle_List(coord)\n",
    "\n",
    "#### Use\n",
    ">To check which combinations of points satisfy the delaunay condition. \n",
    "\n",
    "#### Arguments\n",
    ">This function takes 1 arguments coord<br>\n",
    "> - coord - the list of points provided by the user for the delaunay triangulation.\n",
    "    \n",
    "#### return type \n",
    ">returns the list of the combinations of the points that satisfy the delaunay condition\n",
    "    "
   ]
  },
  {
   "cell_type": "code",
   "execution_count": 7,
   "metadata": {},
   "outputs": [],
   "source": [
    "def get_Triangle_List(coord):  \n",
    "    comb = combinations(coord)\n",
    "    triangle_list = []\n",
    "    for i in comb:\n",
    "        cond = delaunay(i,coord)\n",
    "        if cond == True:\n",
    "            triangle_list.append(i)\n",
    "            \n",
    "    return triangle_list"
   ]
  },
  {
   "cell_type": "markdown",
   "metadata": {},
   "source": [
    "<a id = \"CallBackFuncForimg1\"></a>"
   ]
  },
  {
   "cell_type": "markdown",
   "metadata": {},
   "source": [
    "### CallBackFuncForimg1 \n",
    ">To get callback coordinates and draw circle at points clicked in source image which are the control points in source image \n",
    "\n",
    "### CallBackFuncForimg2 \n",
    ">To get callback coordinates and draw circle at points clicked in destination image which are the control points in source image\n",
    "\n",
    "### getcoord\n",
    ">To get the coordinates from the user using left mouse button click and storing that values in a list. One can select as many control points along with border points but it should be greater then 3"
   ]
  },
  {
   "cell_type": "code",
   "execution_count": 8,
   "metadata": {},
   "outputs": [],
   "source": [
    "def CallBackFuncForimg1(event, x, y, flags, param):\n",
    "    if event == cv2.EVENT_LBUTTONDOWN:\n",
    "        cv2.circle(im1, (x,y), 1, (0, 0, 255), 2)\n",
    "        coordSrc.append((y,x))\n",
    "\n",
    "def CallBackFuncForimg2(event, x, y, flags, param):\n",
    "    if event == cv2.EVENT_LBUTTONDOWN:\n",
    "        cv2.circle(im2, (x,y), 1, (255, 0, 0), 2)\n",
    "        coordDest.append((y,x))\n",
    "        \n",
    "def getcoord(window,image):\n",
    "    while (True):\n",
    "        cv2.imshow(window, image)\n",
    "        if cv2.waitKey(20) == 27:\n",
    "            break\n",
    "    cv2.destroyAllWindows()"
   ]
  },
  {
   "cell_type": "markdown",
   "metadata": {},
   "source": [
    "<a id = \"draw_delauany(img,triangleList,delaunay_color)\"></a>"
   ]
  },
  {
   "cell_type": "markdown",
   "metadata": {},
   "source": [
    "### draw_delauany(img,triangleList,delaunay_color)\n",
    "\n",
    "#### Use\n",
    ">To display the valid delaunany triangle in the image.\n",
    "\n",
    "#### Arguments\n",
    ">This function takes 3 arguments as img, triangleList and delaunay_color<br>\n",
    ">- img - The image on which we have to draw the triangles<br>\n",
    ">- triangleList - The list coordinates of the valid triangles.<br>\n",
    ">- delauany_color - the color of the lines of the triangles.\n",
    "\n",
    "#### return type \n",
    ">returns the image having the triangle.\n",
    "    "
   ]
  },
  {
   "cell_type": "code",
   "execution_count": 9,
   "metadata": {},
   "outputs": [],
   "source": [
    "def draw_delaunay(img, triangleList,delaunay_color):\n",
    "    tri=[]\n",
    "    \n",
    "    for t in triangleList :\n",
    "        \n",
    "        pt1 = t[0]\n",
    "        pt2 = t[1]\n",
    "        pt3 = t[2]\n",
    "\n",
    "        cv2.line(img, (pt1[1],pt1[0]), (pt2[1],pt2[0]), delaunay_color, 1)\n",
    "        cv2.line(img, (pt2[1],pt2[0]), (pt3[1],pt3[0]), delaunay_color, 1)\n",
    "        cv2.line(img, (pt3[1],pt3[0]), (pt1[1],pt1[0]), delaunay_color, 1)\n",
    "        a=[]\n",
    "        a.append(pt1)\n",
    "        a.append(pt2)\n",
    "        a.append(pt3)\n",
    "        tri.append(a)\n",
    "    return tri"
   ]
  },
  {
   "cell_type": "markdown",
   "metadata": {},
   "source": [
    "<a id = \"showTriangulated(img1,img2)\"></a>"
   ]
  },
  {
   "cell_type": "markdown",
   "metadata": {},
   "source": [
    "### showTriangulated(img1,img2)\n",
    "\n",
    "#### Use\n",
    ">To display the valid delaunany triangle in the image.\n",
    "\n",
    "#### Arguments\n",
    ">This function takes 2 arguments as img1 and img2<br>\n",
    ">- img1 = source image<br>\n",
    ">- img2 = destination image\n",
    "\n",
    "#### return type \n",
    ">returns the image having the triangle for further process.\n",
    "    "
   ]
  },
  {
   "cell_type": "code",
   "execution_count": 10,
   "metadata": {},
   "outputs": [],
   "source": [
    "def showTriangulated(img1,img2):\n",
    "    size = img1.shape\n",
    "    r = (0, 0, size[1], size[0])\n",
    "    \n",
    "    coord = coordSrc.copy()\n",
    "    \n",
    "    triangleList = get_Triangle_List(coord)\n",
    "    \n",
    "    tri1 = draw_delaunay(img1,triangleList,(255,0,0))\n",
    "    \n",
    "    # Matching the point p0,..,pn of the source and destination image\n",
    "    tri2 = []\n",
    "    for i in range(len(tri1)):\n",
    "        a = []\n",
    "        for j in range(len(tri1[i])):\n",
    "            a.append(coordDest[coordSrc.index(tri1[i][j])])\n",
    "        tri2.append(a)\n",
    "        \n",
    "    tri2 = draw_delaunay(img2,tri2,(0,255,255))\n",
    "    \n",
    "    cv2.imshow(\"src\",img1)\n",
    "    cv2.imshow(\"dest\",img2)\n",
    "    cv2.imwrite(\"src.jpg\",img1)\n",
    "    cv2.imwrite(\"dest.jpg\",img2)\n",
    "    cv2.waitKey(0)\n",
    "    cv2.destroyAllWindows()\n",
    "    return tri1,tri2"
   ]
  },
  {
   "cell_type": "markdown",
   "metadata": {},
   "source": [
    "<a id = \"isInsideTriangle(p1,p2,p3,x,y)\"></a>"
   ]
  },
  {
   "cell_type": "markdown",
   "metadata": {},
   "source": [
    "### isInsideTriangle(p1,p2,p3,x,y)\n",
    "\n",
    "#### Use\n",
    ">To check if some point lie inside the triangle or not. \n",
    "\n",
    "#### Arguments\n",
    ">This function takes 8 arguments such that (x1,y1), (x2,y2), (x3,y3) are co-ordinates of the triangle and (x,y) is the point which we want to check.\n",
    "\n",
    "#### return type \n",
    ">bool value<br>\n",
    ">- True - point lies inside the triangle.<br>\n",
    ">- False - point doesn't lie inside the triangle."
   ]
  },
  {
   "cell_type": "code",
   "execution_count": 19,
   "metadata": {},
   "outputs": [],
   "source": [
    "def isInsideTriangle(p1,p2,p3,x,y):\n",
    " \n",
    "    A = area (p1[0], p1[1], p2[0], p2[1], p3[0], p3[1])\n",
    "    A1 = area (x, y, p2[0], p2[1], p3[0], p3[1])  \n",
    "    A2 = area (p1[0], p1[1], x, y, p3[0], p3[1])  \n",
    "    A3 = area (p1[0], p1[1], p2[0], p2[1], x, y)\n",
    "    if(A == A1 + A2 + A3):\n",
    "        return True\n",
    "    else:\n",
    "        return False"
   ]
  },
  {
   "cell_type": "markdown",
   "metadata": {},
   "source": [
    "<a id = \"get_affine_basis(coord)\"></a>"
   ]
  },
  {
   "cell_type": "markdown",
   "metadata": {},
   "source": [
    "### get_affine_basis(coord)\n",
    "\n",
    "#### Use\n",
    ">To Calculate the affine basis\n",
    "\n",
    "#### Arguments\n",
    ">This function takes only 1 argument which contains the co-ordinates of the triangle \n",
    "\n",
    "#### return type \n",
    ">float value of x and y component of both the affine basis of a triangle\n",
    "    "
   ]
  },
  {
   "cell_type": "code",
   "execution_count": 12,
   "metadata": {},
   "outputs": [],
   "source": [
    "def get_affine_basis(coord):\n",
    "    e1x = coord[1][0]-coord[0][0]\n",
    "    e1y = coord[1][1]-coord[0][1]\n",
    "    e2x = coord[2][0]-coord[0][0]\n",
    "    e2y = coord[2][1]-coord[0][1]\n",
    "    return e1x,e1y,e2x,e2y"
   ]
  },
  {
   "cell_type": "markdown",
   "metadata": {},
   "source": [
    "<a id = \"get_intermediate_triangles(srcTri,destTri,k,n)\"></a>"
   ]
  },
  {
   "cell_type": "markdown",
   "metadata": {},
   "source": [
    "### get_intermediate_triangles(srcTri,destTri,k,n)\n",
    "\n",
    "#### Use\n",
    ">To find the co-ordinates of the triangle in kth intermediate image corresponding to the triangle in Source and Destination Image.\n",
    "\n",
    "#### Arguments\n",
    ">This function take 4 arguments <br>\n",
    ">- srcTri - coordinates of triangle in source image<br>\n",
    ">- destTri - coordinates of triangle in destination image<br>\n",
    ">- k - kth intermediate immage<br>\n",
    ">- n - k+2\n",
    "\n",
    "#### return type\n",
    ">return the co-ordinates of the triangle in intermediate image by calculating it as:\n",
    "    \n",
    "<!-- $ \\mathbf{Pk}= \\left( \\frac{n-k}{n} \\right) \\mathbf{P1}+\\left(\\frac{k}{n}\\right)\\mathbf{P2}$\n",
    "\n",
    "$\\mathbf{Pk}$ is calculated coordinate of triangle in intermediate kth image <br>\n",
    "$\\mathbf{P1}$ is triangle coordinate in Source image<br>\n",
    "$\\mathbf{P2}$ is triangle coordinate in Destination image      -->\n"
   ]
  },
  {
   "cell_type": "code",
   "execution_count": 13,
   "metadata": {},
   "outputs": [],
   "source": [
    "def get_intermediate_triangles(srcTri , destTri , k , n):\n",
    "    intTri=[]\n",
    "    for (st,dt) in zip(srcTri,destTri):\n",
    "        a=[]\n",
    "        for (coordS,coordD) in zip(st,dt):\n",
    "            \n",
    "            xi=int(((n-k)/n)*coordS[0]+(k/n)*coordD[0])\n",
    "            yi=int(((n-k)/n)*coordS[1]+(k/n)*coordD[1])\n",
    "            a.append((xi,yi))\n",
    "        intTri.append(a)\n",
    "    return intTri"
   ]
  },
  {
   "cell_type": "markdown",
   "metadata": {},
   "source": [
    "<a id = \"checkRange(sx,sy,dx,dy)\"></a>"
   ]
  },
  {
   "cell_type": "markdown",
   "metadata": {},
   "source": [
    "### checkRange(sx,sy,dx,dy)\n",
    "\n",
    "#### Use\n",
    ">if sx,sy,dx,dy are out of range i.e if they are negative or greater than the size of image so this function normalize them\n",
    "\n",
    "#### Arguments\n",
    ">This function take 4 arguments <br>\n",
    ">- (sx,sy) - coordinate in source image\n",
    ">- (dx,dy) - coordinate in destination image\n",
    "\n",
    "#### return type\n",
    ">return the normalize co-ordinates    "
   ]
  },
  {
   "cell_type": "code",
   "execution_count": 14,
   "metadata": {},
   "outputs": [],
   "source": [
    "def checkRange(sx , sy , dx , dy):\n",
    "    if sx<0:\n",
    "        sx=0\n",
    "    if dx<0:\n",
    "        dx=0\n",
    "    if sy<0:\n",
    "        sy=0\n",
    "    if dy<0:\n",
    "        dy=0\n",
    "    if sx>img1.shape[0]-1:\n",
    "        sx=img1.shape[0]-1\n",
    "    if dx>img2.shape[0]-1:\n",
    "        dx=img2.shape[0]-1\n",
    "    if sy>img1.shape[1]-1:\n",
    "        sy=img1.shape[1]-1\n",
    "    if dy>img2.shape[1]-1:\n",
    "        dy=img2.shape[1]-1\n",
    "    return sx,sy,dx,dy\n",
    "\n",
    "    "
   ]
  },
  {
   "cell_type": "markdown",
   "metadata": {},
   "source": [
    "<a id = \"morph(no_of_intermed)\"></a>"
   ]
  },
  {
   "cell_type": "markdown",
   "metadata": {},
   "source": [
    "### morph(no_of_intermed)\n",
    "\n",
    "#### Use\n",
    ">To do affine Transformation from source image to destination image by making some intermediate images in which pixel value are calculated by combination of pixel value in source and destination image\n",
    "\n",
    "#### Arguments\n",
    ">This function take only 1 argument which is the how many number of intermediate images we want to make.\n",
    "\n",
    "    "
   ]
  },
  {
   "cell_type": "code",
   "execution_count": 15,
   "metadata": {},
   "outputs": [],
   "source": [
    "def morph(no_of_intermed):\n",
    "    n=no_of_intermed+2\n",
    "    \n",
    "    for k in range(1,no_of_intermed+1):\n",
    "        \n",
    "        print(str(k)+\" intermediate is generating it may take some time Please Wait...\")\n",
    "        inter=np.zeros_like(img1,dtype=np.uint8)\n",
    "        row,col,channel=inter.shape\n",
    "\n",
    "        intTri=get_intermediate_triangles(tri1,tri2,k,n)\n",
    "\n",
    "        for ( s_tri , i_tri , d_tri ) in zip( tri1 , intTri , tri2 ):\n",
    "\n",
    "            src_e1x , src_e1y , src_e2x , src_e2y = get_affine_basis(s_tri)\n",
    "            int_e1x , int_e1y , int_e2x , int_e2y = get_affine_basis(i_tri)\n",
    "            dest_e1x , dest_e1y , dest_e2x , dest_e2y = get_affine_basis(d_tri)\n",
    "\n",
    "            for r in range(row):\n",
    "                for c in range(col):\n",
    "                    if isInsideTriangle(i_tri[0],i_tri[1],i_tri[2],r,c):\n",
    "                        \n",
    "                        X = r-i_tri[0][0]\n",
    "                        Y = c-i_tri[0][1]\n",
    "\n",
    "                        alpha=((int_e2y*X)-(Y*int_e2x))/((int_e1x*int_e2y)-(int_e2x*int_e1y))\n",
    "                        beta=((int_e1y*X)-(Y*int_e1x))/((int_e1y*int_e2x)-(int_e2y*int_e1x))\n",
    "\n",
    "                        dest_x=int(alpha*dest_e1x+beta*dest_e2x+d_tri[0][0])\n",
    "                        dest_y=int(alpha*dest_e1y+beta*dest_e2y+d_tri[0][1])\n",
    "\n",
    "                        src_x=int(alpha*src_e1x+beta*src_e2x+s_tri[0][0])\n",
    "                        src_y=int(alpha*src_e1y+beta*src_e2y+s_tri[0][1])\n",
    "\n",
    "                        src_x,src_y,dest_x,dest_y=checkRange(src_x,src_y,dest_x,dest_y)\n",
    "\n",
    "                        inter[r][c][0]=int(((n-k)/n)*img1[src_x][src_y][0]\n",
    "                                           +(k/n)*img2[dest_x][dest_y][0])\n",
    "                        inter[r][c][1]=int(((n-k)/n)*img1[src_x][src_y][1]\n",
    "                                           +(k/n)*img2[dest_x][dest_y][1])\n",
    "                        inter[r][c][2]=int(((n-k)/n)*img1[src_x][src_y][2]\n",
    "                                           +(k/n)*img2[dest_x][dest_y][2])\n",
    "\n",
    "#         cv2.imshow(\"inter\"+str(k),inter)\n",
    "        name=\"inter\"+str(k)+\".jpg\"\n",
    "        cv2.imwrite(name, inter) \n",
    "        cv2.waitKey(0)\n",
    "        cv2.destroyAllWindows()\n"
   ]
  },
  {
   "cell_type": "markdown",
   "metadata": {},
   "source": [
    "<a id = \"Reading-of-input-images-and-resizing-them-to-same-size\"></a>"
   ]
  },
  {
   "cell_type": "markdown",
   "metadata": {},
   "source": [
    "# Reading of input images and resizing them to same size"
   ]
  },
  {
   "cell_type": "code",
   "execution_count": 25,
   "metadata": {},
   "outputs": [],
   "source": [
    "img1=cv2.imread(\"bush.jpg\")\n",
    "img2=cv2.imread(\"clinton.jpg\")\n",
    "\"\"\" below commented two lines are used when we have pass\n",
    "    name of images as command line argument\"\"\"\n",
    "\n",
    "# img1=cv2.imread(str(sys.argv[1]))\n",
    "# img2=cv2.imread(str(sys.argv[2]))\n",
    "img2 = cv2.resize(img2,(img1.shape[1],img1.shape[0]))\n",
    "im1=np.copy(img1)\n",
    "im2=np.copy(img2)\n",
    "window1 = 'image1'\n",
    "window2= 'image2'\n",
    "coordSrc=[]\n",
    "coordDest=[]"
   ]
  },
  {
   "cell_type": "markdown",
   "metadata": {},
   "source": [
    "<a id = \"Getting-control-points-on-images-using-mouse-click\"></a>"
   ]
  },
  {
   "cell_type": "markdown",
   "metadata": {},
   "source": [
    "# Getting control points on images using mouse click"
   ]
  },
  {
   "cell_type": "code",
   "execution_count": 17,
   "metadata": {},
   "outputs": [],
   "source": [
    "cv2.namedWindow(window1)\n",
    "cv2.setMouseCallback(window1, CallBackFuncForimg1)\n",
    "getcoord(window1,im1)\n",
    "\n",
    "cv2.namedWindow(window2)\n",
    "cv2.setMouseCallback(window2, CallBackFuncForimg2)\n",
    "getcoord(window2,im2)\n",
    "\n",
    "r1,c1,ch1= img1.shape\n",
    "r2,c2,ch2 = img2.shape"
   ]
  },
  {
   "cell_type": "markdown",
   "metadata": {},
   "source": [
    "<a id = \"Triangulating-the-images-and-applying-affine-transformation\"></a>"
   ]
  },
  {
   "cell_type": "markdown",
   "metadata": {},
   "source": [
    "# Triangulating the images and applying affine transformation"
   ]
  },
  {
   "cell_type": "code",
   "execution_count": 18,
   "metadata": {},
   "outputs": [
    {
     "name": "stdout",
     "output_type": "stream",
     "text": [
      "Enter number of intermediate you want 10\n",
      "1 intermediate is generating it may take some time Please Wait...\n",
      "2 intermediate is generating it may take some time Please Wait...\n",
      "3 intermediate is generating it may take some time Please Wait...\n",
      "4 intermediate is generating it may take some time Please Wait...\n",
      "5 intermediate is generating it may take some time Please Wait...\n",
      "6 intermediate is generating it may take some time Please Wait...\n",
      "7 intermediate is generating it may take some time Please Wait...\n",
      "8 intermediate is generating it may take some time Please Wait...\n",
      "9 intermediate is generating it may take some time Please Wait...\n",
      "10 intermediate is generating it may take some time Please Wait...\n"
     ]
    }
   ],
   "source": [
    "tri1,tri2 = showTriangulated(im1,im2)\n",
    "morph(int(input(\"Enter number of intermediate you want \")))"
   ]
  },
  {
   "cell_type": "markdown",
   "metadata": {},
   "source": [
    "<a id = \"Results-and-Conclusion\"></a>"
   ]
  },
  {
   "cell_type": "code",
   "execution_count": null,
   "metadata": {},
   "outputs": [],
   "source": []
  }
 ],
 "metadata": {
  "kernelspec": {
   "display_name": "Python 3",
   "language": "python",
   "name": "python3"
  },
  "language_info": {
   "codemirror_mode": {
    "name": "ipython",
    "version": 3
   },
   "file_extension": ".py",
   "mimetype": "text/x-python",
   "name": "python",
   "nbconvert_exporter": "python",
   "pygments_lexer": "ipython3",
   "version": "3.7.6"
  }
 },
 "nbformat": 4,
 "nbformat_minor": 4
}
